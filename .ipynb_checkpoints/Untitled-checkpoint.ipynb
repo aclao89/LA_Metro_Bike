{
 "cells": [
  {
   "cell_type": "code",
   "execution_count": 38,
   "metadata": {},
   "outputs": [],
   "source": [
    "#Import libraries for analyis \n",
    "\n",
    "import pandas as pd \n",
    "import numpy as np \n",
    "import matplotlib.pyplot as plt \n",
    "import seaborn as sns \n",
    "%matplotlib inline \n",
    "\n"
   ]
  },
  {
   "cell_type": "markdown",
   "metadata": {},
   "source": [
    "Data Overview \n"
   ]
  },
  {
   "cell_type": "code",
   "execution_count": 3,
   "metadata": {},
   "outputs": [
    {
     "name": "stderr",
     "output_type": "stream",
     "text": [
      "C:\\Users\\alao8\\Anaconda3\\lib\\site-packages\\IPython\\core\\interactiveshell.py:3049: DtypeWarning: Columns (10) have mixed types. Specify dtype option on import or set low_memory=False.\n",
      "  interactivity=interactivity, compiler=compiler, result=result)\n"
     ]
    },
    {
     "data": {
      "text/html": [
       "<div>\n",
       "<style scoped>\n",
       "    .dataframe tbody tr th:only-of-type {\n",
       "        vertical-align: middle;\n",
       "    }\n",
       "\n",
       "    .dataframe tbody tr th {\n",
       "        vertical-align: top;\n",
       "    }\n",
       "\n",
       "    .dataframe thead th {\n",
       "        text-align: right;\n",
       "    }\n",
       "</style>\n",
       "<table border=\"1\" class=\"dataframe\">\n",
       "  <thead>\n",
       "    <tr style=\"text-align: right;\">\n",
       "      <th></th>\n",
       "      <th>trip_id</th>\n",
       "      <th>duration</th>\n",
       "      <th>start_time</th>\n",
       "      <th>end_time</th>\n",
       "      <th>start_station_id</th>\n",
       "      <th>start_lat</th>\n",
       "      <th>start_lon</th>\n",
       "      <th>end_station_id</th>\n",
       "      <th>end_lat</th>\n",
       "      <th>end_lon</th>\n",
       "      <th>bike_id</th>\n",
       "      <th>plan_duration</th>\n",
       "      <th>trip_route_category</th>\n",
       "      <th>passholder_type</th>\n",
       "    </tr>\n",
       "  </thead>\n",
       "  <tbody>\n",
       "    <tr>\n",
       "      <th>0</th>\n",
       "      <td>17059131</td>\n",
       "      <td>480</td>\n",
       "      <td>1/1/2017 0:15</td>\n",
       "      <td>1/1/2017 0:23</td>\n",
       "      <td>3030</td>\n",
       "      <td>34.051941</td>\n",
       "      <td>-118.243530</td>\n",
       "      <td>3029</td>\n",
       "      <td>34.048851</td>\n",
       "      <td>-118.246422</td>\n",
       "      <td>6220</td>\n",
       "      <td>30.0</td>\n",
       "      <td>One Way</td>\n",
       "      <td>Monthly Pass</td>\n",
       "    </tr>\n",
       "    <tr>\n",
       "      <th>1</th>\n",
       "      <td>17059130</td>\n",
       "      <td>720</td>\n",
       "      <td>1/1/2017 0:24</td>\n",
       "      <td>1/1/2017 0:36</td>\n",
       "      <td>3028</td>\n",
       "      <td>34.058319</td>\n",
       "      <td>-118.246094</td>\n",
       "      <td>3028</td>\n",
       "      <td>34.058319</td>\n",
       "      <td>-118.246094</td>\n",
       "      <td>6351</td>\n",
       "      <td>0.0</td>\n",
       "      <td>Round Trip</td>\n",
       "      <td>Walk-up</td>\n",
       "    </tr>\n",
       "    <tr>\n",
       "      <th>2</th>\n",
       "      <td>17059129</td>\n",
       "      <td>1020</td>\n",
       "      <td>1/1/2017 0:28</td>\n",
       "      <td>1/1/2017 0:45</td>\n",
       "      <td>3027</td>\n",
       "      <td>34.049980</td>\n",
       "      <td>-118.247162</td>\n",
       "      <td>3018</td>\n",
       "      <td>34.043732</td>\n",
       "      <td>-118.260139</td>\n",
       "      <td>5836</td>\n",
       "      <td>0.0</td>\n",
       "      <td>One Way</td>\n",
       "      <td>Walk-up</td>\n",
       "    </tr>\n",
       "    <tr>\n",
       "      <th>3</th>\n",
       "      <td>17059128</td>\n",
       "      <td>300</td>\n",
       "      <td>1/1/2017 0:38</td>\n",
       "      <td>1/1/2017 0:43</td>\n",
       "      <td>3007</td>\n",
       "      <td>34.050480</td>\n",
       "      <td>-118.254593</td>\n",
       "      <td>3031</td>\n",
       "      <td>34.044701</td>\n",
       "      <td>-118.252441</td>\n",
       "      <td>6142</td>\n",
       "      <td>30.0</td>\n",
       "      <td>One Way</td>\n",
       "      <td>Monthly Pass</td>\n",
       "    </tr>\n",
       "    <tr>\n",
       "      <th>4</th>\n",
       "      <td>17059127</td>\n",
       "      <td>300</td>\n",
       "      <td>1/1/2017 0:38</td>\n",
       "      <td>1/1/2017 0:43</td>\n",
       "      <td>3007</td>\n",
       "      <td>34.050480</td>\n",
       "      <td>-118.254593</td>\n",
       "      <td>3031</td>\n",
       "      <td>34.044701</td>\n",
       "      <td>-118.252441</td>\n",
       "      <td>6135</td>\n",
       "      <td>30.0</td>\n",
       "      <td>One Way</td>\n",
       "      <td>Monthly Pass</td>\n",
       "    </tr>\n",
       "  </tbody>\n",
       "</table>\n",
       "</div>"
      ],
      "text/plain": [
       "    trip_id  duration     start_time       end_time  start_station_id  \\\n",
       "0  17059131       480  1/1/2017 0:15  1/1/2017 0:23              3030   \n",
       "1  17059130       720  1/1/2017 0:24  1/1/2017 0:36              3028   \n",
       "2  17059129      1020  1/1/2017 0:28  1/1/2017 0:45              3027   \n",
       "3  17059128       300  1/1/2017 0:38  1/1/2017 0:43              3007   \n",
       "4  17059127       300  1/1/2017 0:38  1/1/2017 0:43              3007   \n",
       "\n",
       "   start_lat   start_lon  end_station_id    end_lat     end_lon bike_id  \\\n",
       "0  34.051941 -118.243530            3029  34.048851 -118.246422    6220   \n",
       "1  34.058319 -118.246094            3028  34.058319 -118.246094    6351   \n",
       "2  34.049980 -118.247162            3018  34.043732 -118.260139    5836   \n",
       "3  34.050480 -118.254593            3031  34.044701 -118.252441    6142   \n",
       "4  34.050480 -118.254593            3031  34.044701 -118.252441    6135   \n",
       "\n",
       "   plan_duration trip_route_category passholder_type  \n",
       "0           30.0             One Way    Monthly Pass  \n",
       "1            0.0          Round Trip         Walk-up  \n",
       "2            0.0             One Way         Walk-up  \n",
       "3           30.0             One Way    Monthly Pass  \n",
       "4           30.0             One Way    Monthly Pass  "
      ]
     },
     "execution_count": 3,
     "metadata": {},
     "output_type": "execute_result"
    }
   ],
   "source": [
    "#load the ride and station datasets\n",
    "\n",
    "trips_df = pd.read_csv('Resources/la_metro_gbfs_trips_2017.csv')\n",
    "\n",
    "\n",
    "stations_df = pd.read_csv('Resources/metro-bike-share-stations-2019-10-1.csv')\n",
    "\n",
    "\n",
    "trips_df.head(5)"
   ]
  },
  {
   "cell_type": "code",
   "execution_count": 4,
   "metadata": {},
   "outputs": [
    {
     "data": {
      "text/html": [
       "<div>\n",
       "<style scoped>\n",
       "    .dataframe tbody tr th:only-of-type {\n",
       "        vertical-align: middle;\n",
       "    }\n",
       "\n",
       "    .dataframe tbody tr th {\n",
       "        vertical-align: top;\n",
       "    }\n",
       "\n",
       "    .dataframe thead th {\n",
       "        text-align: right;\n",
       "    }\n",
       "</style>\n",
       "<table border=\"1\" class=\"dataframe\">\n",
       "  <thead>\n",
       "    <tr style=\"text-align: right;\">\n",
       "      <th></th>\n",
       "      <th>Station_ID</th>\n",
       "      <th>Station_Name</th>\n",
       "      <th>Go_live_date</th>\n",
       "      <th>Region</th>\n",
       "      <th>Status</th>\n",
       "    </tr>\n",
       "  </thead>\n",
       "  <tbody>\n",
       "    <tr>\n",
       "      <th>0</th>\n",
       "      <td>3000</td>\n",
       "      <td>Virtual Station</td>\n",
       "      <td>7/7/2016</td>\n",
       "      <td>NaN</td>\n",
       "      <td>Active</td>\n",
       "    </tr>\n",
       "    <tr>\n",
       "      <th>1</th>\n",
       "      <td>3005</td>\n",
       "      <td>7th &amp; Flower</td>\n",
       "      <td>7/7/2016</td>\n",
       "      <td>DTLA</td>\n",
       "      <td>Active</td>\n",
       "    </tr>\n",
       "    <tr>\n",
       "      <th>2</th>\n",
       "      <td>3006</td>\n",
       "      <td>Olive &amp; 8th</td>\n",
       "      <td>7/7/2016</td>\n",
       "      <td>DTLA</td>\n",
       "      <td>Active</td>\n",
       "    </tr>\n",
       "    <tr>\n",
       "      <th>3</th>\n",
       "      <td>3007</td>\n",
       "      <td>5th &amp; Grand</td>\n",
       "      <td>7/7/2016</td>\n",
       "      <td>DTLA</td>\n",
       "      <td>Active</td>\n",
       "    </tr>\n",
       "    <tr>\n",
       "      <th>4</th>\n",
       "      <td>3008</td>\n",
       "      <td>Figueroa &amp; 9th</td>\n",
       "      <td>7/7/2016</td>\n",
       "      <td>DTLA</td>\n",
       "      <td>Active</td>\n",
       "    </tr>\n",
       "  </tbody>\n",
       "</table>\n",
       "</div>"
      ],
      "text/plain": [
       "   Station_ID     Station_Name Go_live_date Region   Status\n",
       "0        3000  Virtual Station     7/7/2016     NaN  Active\n",
       "1        3005     7th & Flower     7/7/2016    DTLA  Active\n",
       "2        3006      Olive & 8th     7/7/2016    DTLA  Active\n",
       "3        3007      5th & Grand     7/7/2016    DTLA  Active\n",
       "4        3008   Figueroa & 9th     7/7/2016    DTLA  Active"
      ]
     },
     "execution_count": 4,
     "metadata": {},
     "output_type": "execute_result"
    }
   ],
   "source": [
    "stations_df.head(5)"
   ]
  },
  {
   "cell_type": "code",
   "execution_count": 8,
   "metadata": {},
   "outputs": [
    {
     "data": {
      "text/plain": [
       "(229255, 14)"
      ]
     },
     "execution_count": 8,
     "metadata": {},
     "output_type": "execute_result"
    }
   ],
   "source": [
    "trips_df.shape"
   ]
  },
  {
   "cell_type": "code",
   "execution_count": 5,
   "metadata": {},
   "outputs": [
    {
     "data": {
      "text/plain": [
       "trip_id                  int64\n",
       "duration                 int64\n",
       "start_time              object\n",
       "end_time                object\n",
       "start_station_id         int64\n",
       "start_lat              float64\n",
       "start_lon              float64\n",
       "end_station_id           int64\n",
       "end_lat                float64\n",
       "end_lon                float64\n",
       "bike_id                 object\n",
       "plan_duration          float64\n",
       "trip_route_category     object\n",
       "passholder_type         object\n",
       "dtype: object"
      ]
     },
     "execution_count": 5,
     "metadata": {},
     "output_type": "execute_result"
    }
   ],
   "source": [
    "#Examine the data types \n",
    "trips_df.dtypes"
   ]
  },
  {
   "cell_type": "code",
   "execution_count": 6,
   "metadata": {},
   "outputs": [
    {
     "data": {
      "text/plain": [
       "trip_id                   0\n",
       "duration                  0\n",
       "start_time                0\n",
       "end_time                  0\n",
       "start_station_id          0\n",
       "start_lat               587\n",
       "start_lon               587\n",
       "end_station_id            0\n",
       "end_lat                3501\n",
       "end_lon                3501\n",
       "bike_id                   0\n",
       "plan_duration           384\n",
       "trip_route_category       0\n",
       "passholder_type           0\n",
       "dtype: int64"
      ]
     },
     "execution_count": 6,
     "metadata": {},
     "output_type": "execute_result"
    }
   ],
   "source": [
    "# Examine any null values \n",
    "trips_df.isnull().sum()"
   ]
  },
  {
   "cell_type": "code",
   "execution_count": 13,
   "metadata": {},
   "outputs": [
    {
     "data": {
      "text/html": [
       "<div>\n",
       "<style scoped>\n",
       "    .dataframe tbody tr th:only-of-type {\n",
       "        vertical-align: middle;\n",
       "    }\n",
       "\n",
       "    .dataframe tbody tr th {\n",
       "        vertical-align: top;\n",
       "    }\n",
       "\n",
       "    .dataframe thead th {\n",
       "        text-align: right;\n",
       "    }\n",
       "</style>\n",
       "<table border=\"1\" class=\"dataframe\">\n",
       "  <thead>\n",
       "    <tr style=\"text-align: right;\">\n",
       "      <th></th>\n",
       "      <th>trip_id</th>\n",
       "      <th>duration</th>\n",
       "      <th>start_time</th>\n",
       "      <th>end_time</th>\n",
       "      <th>start_station_id</th>\n",
       "      <th>start_lat</th>\n",
       "      <th>start_lon</th>\n",
       "      <th>end_station_id</th>\n",
       "      <th>end_lat</th>\n",
       "      <th>end_lon</th>\n",
       "      <th>bike_id</th>\n",
       "      <th>plan_duration</th>\n",
       "      <th>trip_route_category</th>\n",
       "      <th>passholder_type</th>\n",
       "    </tr>\n",
       "  </thead>\n",
       "  <tbody>\n",
       "    <tr>\n",
       "      <th>0</th>\n",
       "      <td>17059131</td>\n",
       "      <td>480</td>\n",
       "      <td>1/1/2017 0:15</td>\n",
       "      <td>1/1/2017 0:23</td>\n",
       "      <td>3030</td>\n",
       "      <td>34.051941</td>\n",
       "      <td>-118.243530</td>\n",
       "      <td>3029</td>\n",
       "      <td>34.048851</td>\n",
       "      <td>-118.246422</td>\n",
       "      <td>6220</td>\n",
       "      <td>30.0</td>\n",
       "      <td>One Way</td>\n",
       "      <td>Monthly Pass</td>\n",
       "    </tr>\n",
       "    <tr>\n",
       "      <th>1</th>\n",
       "      <td>17059130</td>\n",
       "      <td>720</td>\n",
       "      <td>1/1/2017 0:24</td>\n",
       "      <td>1/1/2017 0:36</td>\n",
       "      <td>3028</td>\n",
       "      <td>34.058319</td>\n",
       "      <td>-118.246094</td>\n",
       "      <td>3028</td>\n",
       "      <td>34.058319</td>\n",
       "      <td>-118.246094</td>\n",
       "      <td>6351</td>\n",
       "      <td>0.0</td>\n",
       "      <td>Round Trip</td>\n",
       "      <td>Walk-up</td>\n",
       "    </tr>\n",
       "    <tr>\n",
       "      <th>2</th>\n",
       "      <td>17059129</td>\n",
       "      <td>1020</td>\n",
       "      <td>1/1/2017 0:28</td>\n",
       "      <td>1/1/2017 0:45</td>\n",
       "      <td>3027</td>\n",
       "      <td>34.049980</td>\n",
       "      <td>-118.247162</td>\n",
       "      <td>3018</td>\n",
       "      <td>34.043732</td>\n",
       "      <td>-118.260139</td>\n",
       "      <td>5836</td>\n",
       "      <td>0.0</td>\n",
       "      <td>One Way</td>\n",
       "      <td>Walk-up</td>\n",
       "    </tr>\n",
       "    <tr>\n",
       "      <th>3</th>\n",
       "      <td>17059128</td>\n",
       "      <td>300</td>\n",
       "      <td>1/1/2017 0:38</td>\n",
       "      <td>1/1/2017 0:43</td>\n",
       "      <td>3007</td>\n",
       "      <td>34.050480</td>\n",
       "      <td>-118.254593</td>\n",
       "      <td>3031</td>\n",
       "      <td>34.044701</td>\n",
       "      <td>-118.252441</td>\n",
       "      <td>6142</td>\n",
       "      <td>30.0</td>\n",
       "      <td>One Way</td>\n",
       "      <td>Monthly Pass</td>\n",
       "    </tr>\n",
       "    <tr>\n",
       "      <th>4</th>\n",
       "      <td>17059127</td>\n",
       "      <td>300</td>\n",
       "      <td>1/1/2017 0:38</td>\n",
       "      <td>1/1/2017 0:43</td>\n",
       "      <td>3007</td>\n",
       "      <td>34.050480</td>\n",
       "      <td>-118.254593</td>\n",
       "      <td>3031</td>\n",
       "      <td>34.044701</td>\n",
       "      <td>-118.252441</td>\n",
       "      <td>6135</td>\n",
       "      <td>30.0</td>\n",
       "      <td>One Way</td>\n",
       "      <td>Monthly Pass</td>\n",
       "    </tr>\n",
       "  </tbody>\n",
       "</table>\n",
       "</div>"
      ],
      "text/plain": [
       "    trip_id  duration     start_time       end_time  start_station_id  \\\n",
       "0  17059131       480  1/1/2017 0:15  1/1/2017 0:23              3030   \n",
       "1  17059130       720  1/1/2017 0:24  1/1/2017 0:36              3028   \n",
       "2  17059129      1020  1/1/2017 0:28  1/1/2017 0:45              3027   \n",
       "3  17059128       300  1/1/2017 0:38  1/1/2017 0:43              3007   \n",
       "4  17059127       300  1/1/2017 0:38  1/1/2017 0:43              3007   \n",
       "\n",
       "   start_lat   start_lon  end_station_id    end_lat     end_lon bike_id  \\\n",
       "0  34.051941 -118.243530            3029  34.048851 -118.246422    6220   \n",
       "1  34.058319 -118.246094            3028  34.058319 -118.246094    6351   \n",
       "2  34.049980 -118.247162            3018  34.043732 -118.260139    5836   \n",
       "3  34.050480 -118.254593            3031  34.044701 -118.252441    6142   \n",
       "4  34.050480 -118.254593            3031  34.044701 -118.252441    6135   \n",
       "\n",
       "   plan_duration trip_route_category passholder_type  \n",
       "0           30.0             One Way    Monthly Pass  \n",
       "1            0.0          Round Trip         Walk-up  \n",
       "2            0.0             One Way         Walk-up  \n",
       "3           30.0             One Way    Monthly Pass  \n",
       "4           30.0             One Way    Monthly Pass  "
      ]
     },
     "execution_count": 13,
     "metadata": {},
     "output_type": "execute_result"
    }
   ],
   "source": [
    "#Drop records with NaN values to keep data integrity\n",
    "trips_clean = trips_df.dropna(how='any')\n",
    "\n",
    "trips_clean.head()"
   ]
  },
  {
   "cell_type": "code",
   "execution_count": 11,
   "metadata": {},
   "outputs": [
    {
     "data": {
      "text/plain": [
       "trip_id                0\n",
       "duration               0\n",
       "start_time             0\n",
       "end_time               0\n",
       "start_station_id       0\n",
       "start_lat              0\n",
       "start_lon              0\n",
       "end_station_id         0\n",
       "end_lat                0\n",
       "end_lon                0\n",
       "bike_id                0\n",
       "plan_duration          0\n",
       "trip_route_category    0\n",
       "passholder_type        0\n",
       "dtype: int64"
      ]
     },
     "execution_count": 11,
     "metadata": {},
     "output_type": "execute_result"
    }
   ],
   "source": [
    "#Confirm that records with NaN values are dropped\n",
    "trips_clean.isnull().sum()"
   ]
  },
  {
   "cell_type": "code",
   "execution_count": 17,
   "metadata": {},
   "outputs": [
    {
     "data": {
      "text/html": [
       "<div>\n",
       "<style scoped>\n",
       "    .dataframe tbody tr th:only-of-type {\n",
       "        vertical-align: middle;\n",
       "    }\n",
       "\n",
       "    .dataframe tbody tr th {\n",
       "        vertical-align: top;\n",
       "    }\n",
       "\n",
       "    .dataframe thead th {\n",
       "        text-align: right;\n",
       "    }\n",
       "</style>\n",
       "<table border=\"1\" class=\"dataframe\">\n",
       "  <thead>\n",
       "    <tr style=\"text-align: right;\">\n",
       "      <th></th>\n",
       "      <th>Station_ID</th>\n",
       "      <th>Station_Name</th>\n",
       "      <th>Go_live_date</th>\n",
       "      <th>Region</th>\n",
       "      <th>Status</th>\n",
       "    </tr>\n",
       "  </thead>\n",
       "  <tbody>\n",
       "    <tr>\n",
       "      <th>1</th>\n",
       "      <td>3005</td>\n",
       "      <td>7th &amp; Flower</td>\n",
       "      <td>7/7/2016</td>\n",
       "      <td>DTLA</td>\n",
       "      <td>Active</td>\n",
       "    </tr>\n",
       "    <tr>\n",
       "      <th>2</th>\n",
       "      <td>3006</td>\n",
       "      <td>Olive &amp; 8th</td>\n",
       "      <td>7/7/2016</td>\n",
       "      <td>DTLA</td>\n",
       "      <td>Active</td>\n",
       "    </tr>\n",
       "    <tr>\n",
       "      <th>3</th>\n",
       "      <td>3007</td>\n",
       "      <td>5th &amp; Grand</td>\n",
       "      <td>7/7/2016</td>\n",
       "      <td>DTLA</td>\n",
       "      <td>Active</td>\n",
       "    </tr>\n",
       "    <tr>\n",
       "      <th>4</th>\n",
       "      <td>3008</td>\n",
       "      <td>Figueroa &amp; 9th</td>\n",
       "      <td>7/7/2016</td>\n",
       "      <td>DTLA</td>\n",
       "      <td>Active</td>\n",
       "    </tr>\n",
       "    <tr>\n",
       "      <th>5</th>\n",
       "      <td>3010</td>\n",
       "      <td>11th &amp; Maple</td>\n",
       "      <td>7/10/2016</td>\n",
       "      <td>DTLA</td>\n",
       "      <td>Active</td>\n",
       "    </tr>\n",
       "  </tbody>\n",
       "</table>\n",
       "</div>"
      ],
      "text/plain": [
       "   Station_ID    Station_Name Go_live_date Region   Status\n",
       "1        3005    7th & Flower     7/7/2016    DTLA  Active\n",
       "2        3006     Olive & 8th     7/7/2016    DTLA  Active\n",
       "3        3007     5th & Grand     7/7/2016    DTLA  Active\n",
       "4        3008  Figueroa & 9th     7/7/2016    DTLA  Active\n",
       "5        3010    11th & Maple    7/10/2016    DTLA  Active"
      ]
     },
     "execution_count": 17,
     "metadata": {},
     "output_type": "execute_result"
    }
   ],
   "source": [
    "stations_df.isnull().sum()\n",
    "\n",
    "stations_clean = stations_df.dropna(how='any')\n",
    "\n",
    "stations_clean.head()"
   ]
  },
  {
   "cell_type": "markdown",
   "metadata": {},
   "source": [
    "How many trips were taken in 2017?"
   ]
  },
  {
   "cell_type": "code",
   "execution_count": 18,
   "metadata": {},
   "outputs": [
    {
     "data": {
      "text/plain": [
       "225034"
      ]
     },
     "execution_count": 18,
     "metadata": {},
     "output_type": "execute_result"
    }
   ],
   "source": [
    "\n",
    "trips_clean.trip_id.nunique()"
   ]
  },
  {
   "cell_type": "code",
   "execution_count": 19,
   "metadata": {
    "scrolled": true
   },
   "outputs": [
    {
     "data": {
      "text/plain": [
       "225034"
      ]
     },
     "execution_count": 19,
     "metadata": {},
     "output_type": "execute_result"
    }
   ],
   "source": [
    "#Lets confirm the table is unique at the table level.\n",
    "trips_clean.shape[0]"
   ]
  },
  {
   "cell_type": "markdown",
   "metadata": {},
   "source": [
    "How many unique stations?\n"
   ]
  },
  {
   "cell_type": "code",
   "execution_count": 20,
   "metadata": {},
   "outputs": [
    {
     "data": {
      "text/plain": [
       "244"
      ]
     },
     "execution_count": 20,
     "metadata": {},
     "output_type": "execute_result"
    }
   ],
   "source": [
    "stations_clean.Station_ID.nunique()"
   ]
  },
  {
   "cell_type": "code",
   "execution_count": 22,
   "metadata": {},
   "outputs": [
    {
     "data": {
      "text/plain": [
       "Active      181\n",
       "Inactive     63\n",
       "Name: Status, dtype: int64"
      ]
     },
     "execution_count": 22,
     "metadata": {},
     "output_type": "execute_result"
    }
   ],
   "source": [
    "stations_clean.Status.value_counts()\n"
   ]
  },
  {
   "cell_type": "markdown",
   "metadata": {},
   "source": [
    "What's the average duration of each trip?"
   ]
  },
  {
   "cell_type": "code",
   "execution_count": 23,
   "metadata": {},
   "outputs": [
    {
     "data": {
      "text/plain": [
       "216.43740945812633"
      ]
     },
     "execution_count": 23,
     "metadata": {},
     "output_type": "execute_result"
    }
   ],
   "source": [
    "#Each average trip duration is 216 min? On the website, https://bikeshare.metro.net/about/data/, it says duration is measured in minutes\n",
    "trips_clean.duration.mean()"
   ]
  },
  {
   "cell_type": "code",
   "execution_count": 25,
   "metadata": {},
   "outputs": [
    {
     "data": {
      "text/html": [
       "<div>\n",
       "<style scoped>\n",
       "    .dataframe tbody tr th:only-of-type {\n",
       "        vertical-align: middle;\n",
       "    }\n",
       "\n",
       "    .dataframe tbody tr th {\n",
       "        vertical-align: top;\n",
       "    }\n",
       "\n",
       "    .dataframe thead th {\n",
       "        text-align: right;\n",
       "    }\n",
       "</style>\n",
       "<table border=\"1\" class=\"dataframe\">\n",
       "  <thead>\n",
       "    <tr style=\"text-align: right;\">\n",
       "      <th></th>\n",
       "      <th>duration</th>\n",
       "      <th>start_time</th>\n",
       "      <th>end_time</th>\n",
       "    </tr>\n",
       "  </thead>\n",
       "  <tbody>\n",
       "    <tr>\n",
       "      <th>0</th>\n",
       "      <td>480</td>\n",
       "      <td>1/1/2017 0:15</td>\n",
       "      <td>1/1/2017 0:23</td>\n",
       "    </tr>\n",
       "    <tr>\n",
       "      <th>1</th>\n",
       "      <td>720</td>\n",
       "      <td>1/1/2017 0:24</td>\n",
       "      <td>1/1/2017 0:36</td>\n",
       "    </tr>\n",
       "    <tr>\n",
       "      <th>2</th>\n",
       "      <td>1020</td>\n",
       "      <td>1/1/2017 0:28</td>\n",
       "      <td>1/1/2017 0:45</td>\n",
       "    </tr>\n",
       "    <tr>\n",
       "      <th>3</th>\n",
       "      <td>300</td>\n",
       "      <td>1/1/2017 0:38</td>\n",
       "      <td>1/1/2017 0:43</td>\n",
       "    </tr>\n",
       "    <tr>\n",
       "      <th>4</th>\n",
       "      <td>300</td>\n",
       "      <td>1/1/2017 0:38</td>\n",
       "      <td>1/1/2017 0:43</td>\n",
       "    </tr>\n",
       "  </tbody>\n",
       "</table>\n",
       "</div>"
      ],
      "text/plain": [
       "   duration     start_time       end_time\n",
       "0       480  1/1/2017 0:15  1/1/2017 0:23\n",
       "1       720  1/1/2017 0:24  1/1/2017 0:36\n",
       "2      1020  1/1/2017 0:28  1/1/2017 0:45\n",
       "3       300  1/1/2017 0:38  1/1/2017 0:43\n",
       "4       300  1/1/2017 0:38  1/1/2017 0:43"
      ]
     },
     "execution_count": 25,
     "metadata": {},
     "output_type": "execute_result"
    }
   ],
   "source": [
    "#With the start and end times, the duration is actually measured in seconds which makes more sense now!\n",
    "trips_clean[['duration', 'start_time','end_time']].head()"
   ]
  },
  {
   "cell_type": "code",
   "execution_count": 27,
   "metadata": {},
   "outputs": [
    {
     "name": "stderr",
     "output_type": "stream",
     "text": [
      "C:\\Users\\alao8\\Anaconda3\\lib\\site-packages\\ipykernel_launcher.py:2: SettingWithCopyWarning: \n",
      "A value is trying to be set on a copy of a slice from a DataFrame.\n",
      "Try using .loc[row_indexer,col_indexer] = value instead\n",
      "\n",
      "See the caveats in the documentation: http://pandas.pydata.org/pandas-docs/stable/indexing.html#indexing-view-versus-copy\n",
      "  \n"
     ]
    },
    {
     "data": {
      "text/html": [
       "<div>\n",
       "<style scoped>\n",
       "    .dataframe tbody tr th:only-of-type {\n",
       "        vertical-align: middle;\n",
       "    }\n",
       "\n",
       "    .dataframe tbody tr th {\n",
       "        vertical-align: top;\n",
       "    }\n",
       "\n",
       "    .dataframe thead th {\n",
       "        text-align: right;\n",
       "    }\n",
       "</style>\n",
       "<table border=\"1\" class=\"dataframe\">\n",
       "  <thead>\n",
       "    <tr style=\"text-align: right;\">\n",
       "      <th></th>\n",
       "      <th>trip_id</th>\n",
       "      <th>duration</th>\n",
       "      <th>start_time</th>\n",
       "      <th>end_time</th>\n",
       "      <th>start_station_id</th>\n",
       "      <th>start_lat</th>\n",
       "      <th>start_lon</th>\n",
       "      <th>end_station_id</th>\n",
       "      <th>end_lat</th>\n",
       "      <th>end_lon</th>\n",
       "      <th>bike_id</th>\n",
       "      <th>plan_duration</th>\n",
       "      <th>trip_route_category</th>\n",
       "      <th>passholder_type</th>\n",
       "      <th>duration_min</th>\n",
       "    </tr>\n",
       "  </thead>\n",
       "  <tbody>\n",
       "    <tr>\n",
       "      <th>0</th>\n",
       "      <td>17059131</td>\n",
       "      <td>480</td>\n",
       "      <td>1/1/2017 0:15</td>\n",
       "      <td>1/1/2017 0:23</td>\n",
       "      <td>3030</td>\n",
       "      <td>34.051941</td>\n",
       "      <td>-118.243530</td>\n",
       "      <td>3029</td>\n",
       "      <td>34.048851</td>\n",
       "      <td>-118.246422</td>\n",
       "      <td>6220</td>\n",
       "      <td>30.0</td>\n",
       "      <td>One Way</td>\n",
       "      <td>Monthly Pass</td>\n",
       "      <td>8.0</td>\n",
       "    </tr>\n",
       "    <tr>\n",
       "      <th>1</th>\n",
       "      <td>17059130</td>\n",
       "      <td>720</td>\n",
       "      <td>1/1/2017 0:24</td>\n",
       "      <td>1/1/2017 0:36</td>\n",
       "      <td>3028</td>\n",
       "      <td>34.058319</td>\n",
       "      <td>-118.246094</td>\n",
       "      <td>3028</td>\n",
       "      <td>34.058319</td>\n",
       "      <td>-118.246094</td>\n",
       "      <td>6351</td>\n",
       "      <td>0.0</td>\n",
       "      <td>Round Trip</td>\n",
       "      <td>Walk-up</td>\n",
       "      <td>12.0</td>\n",
       "    </tr>\n",
       "    <tr>\n",
       "      <th>2</th>\n",
       "      <td>17059129</td>\n",
       "      <td>1020</td>\n",
       "      <td>1/1/2017 0:28</td>\n",
       "      <td>1/1/2017 0:45</td>\n",
       "      <td>3027</td>\n",
       "      <td>34.049980</td>\n",
       "      <td>-118.247162</td>\n",
       "      <td>3018</td>\n",
       "      <td>34.043732</td>\n",
       "      <td>-118.260139</td>\n",
       "      <td>5836</td>\n",
       "      <td>0.0</td>\n",
       "      <td>One Way</td>\n",
       "      <td>Walk-up</td>\n",
       "      <td>17.0</td>\n",
       "    </tr>\n",
       "    <tr>\n",
       "      <th>3</th>\n",
       "      <td>17059128</td>\n",
       "      <td>300</td>\n",
       "      <td>1/1/2017 0:38</td>\n",
       "      <td>1/1/2017 0:43</td>\n",
       "      <td>3007</td>\n",
       "      <td>34.050480</td>\n",
       "      <td>-118.254593</td>\n",
       "      <td>3031</td>\n",
       "      <td>34.044701</td>\n",
       "      <td>-118.252441</td>\n",
       "      <td>6142</td>\n",
       "      <td>30.0</td>\n",
       "      <td>One Way</td>\n",
       "      <td>Monthly Pass</td>\n",
       "      <td>5.0</td>\n",
       "    </tr>\n",
       "    <tr>\n",
       "      <th>4</th>\n",
       "      <td>17059127</td>\n",
       "      <td>300</td>\n",
       "      <td>1/1/2017 0:38</td>\n",
       "      <td>1/1/2017 0:43</td>\n",
       "      <td>3007</td>\n",
       "      <td>34.050480</td>\n",
       "      <td>-118.254593</td>\n",
       "      <td>3031</td>\n",
       "      <td>34.044701</td>\n",
       "      <td>-118.252441</td>\n",
       "      <td>6135</td>\n",
       "      <td>30.0</td>\n",
       "      <td>One Way</td>\n",
       "      <td>Monthly Pass</td>\n",
       "      <td>5.0</td>\n",
       "    </tr>\n",
       "  </tbody>\n",
       "</table>\n",
       "</div>"
      ],
      "text/plain": [
       "    trip_id  duration     start_time       end_time  start_station_id  \\\n",
       "0  17059131       480  1/1/2017 0:15  1/1/2017 0:23              3030   \n",
       "1  17059130       720  1/1/2017 0:24  1/1/2017 0:36              3028   \n",
       "2  17059129      1020  1/1/2017 0:28  1/1/2017 0:45              3027   \n",
       "3  17059128       300  1/1/2017 0:38  1/1/2017 0:43              3007   \n",
       "4  17059127       300  1/1/2017 0:38  1/1/2017 0:43              3007   \n",
       "\n",
       "   start_lat   start_lon  end_station_id    end_lat     end_lon bike_id  \\\n",
       "0  34.051941 -118.243530            3029  34.048851 -118.246422    6220   \n",
       "1  34.058319 -118.246094            3028  34.058319 -118.246094    6351   \n",
       "2  34.049980 -118.247162            3018  34.043732 -118.260139    5836   \n",
       "3  34.050480 -118.254593            3031  34.044701 -118.252441    6142   \n",
       "4  34.050480 -118.254593            3031  34.044701 -118.252441    6135   \n",
       "\n",
       "   plan_duration trip_route_category passholder_type  duration_min  \n",
       "0           30.0             One Way    Monthly Pass           8.0  \n",
       "1            0.0          Round Trip         Walk-up          12.0  \n",
       "2            0.0             One Way         Walk-up          17.0  \n",
       "3           30.0             One Way    Monthly Pass           5.0  \n",
       "4           30.0             One Way    Monthly Pass           5.0  "
      ]
     },
     "execution_count": 27,
     "metadata": {},
     "output_type": "execute_result"
    }
   ],
   "source": [
    "#Create a new column for duration in minutes \n",
    "trips_clean['duration_min'] = trips_clean.duration/60\n",
    "\n",
    "trips_clean.head()"
   ]
  },
  {
   "cell_type": "code",
   "execution_count": 28,
   "metadata": {},
   "outputs": [
    {
     "data": {
      "text/plain": [
       "3.607290157636532"
      ]
     },
     "execution_count": 28,
     "metadata": {},
     "output_type": "execute_result"
    }
   ],
   "source": [
    "trips_clean.duration_min.mean()"
   ]
  },
  {
   "cell_type": "code",
   "execution_count": 31,
   "metadata": {},
   "outputs": [
    {
     "data": {
      "text/plain": [
       "One Way       195495\n",
       "Round Trip     29539\n",
       "Name: trip_route_category, dtype: int64"
      ]
     },
     "execution_count": 31,
     "metadata": {},
     "output_type": "execute_result"
    }
   ],
   "source": [
    "trips_clean.trip_route_category.value_counts()"
   ]
  },
  {
   "cell_type": "code",
   "execution_count": 33,
   "metadata": {},
   "outputs": [
    {
     "data": {
      "text/plain": [
       "Monthly Pass    142742\n",
       "Walk-up          65943\n",
       "Flex Pass        10937\n",
       "One Day Pass      5412\n",
       "Name: passholder_type, dtype: int64"
      ]
     },
     "execution_count": 33,
     "metadata": {},
     "output_type": "execute_result"
    }
   ],
   "source": [
    "#Examine the distribution of membership types\n",
    "\n",
    "membership_types = trips_clean.passholder_type.value_counts()\n",
    "\n",
    "membership_types"
   ]
  },
  {
   "cell_type": "code",
   "execution_count": 46,
   "metadata": {},
   "outputs": [
    {
     "data": {
      "image/png": "[encoded data removed]",
      "text/plain": [
       "<Figure size 720x720 with 1 Axes>"
      ]
     },
     "metadata": {},
     "output_type": "display_data"
    }
   ],
   "source": [
    "#Plot a pie chart to represent their membership types\n",
    "sns.set(rc={'figure.figsize':(10,10)})\n",
    "\n",
    "labels = ['Monthly Pass', 'Walk-up', 'Flex Pass', 'One Day Pass']\n",
    "\n",
    "plt.pie(membership_types, startangle=120, autopct='%1.1f%%')\n",
    "plt.legend(labels, loc=\"upper right\")\n",
    "plt.title(\"Membership Types\", fontsize=14)\n",
    "plt.show()"
   ]
  },
  {
   "cell_type": "markdown",
   "metadata": {},
   "source": [
    "63.4% of their membership base are monthly subscribers. 29.3% are walk-ups meaning customers just purchase on the spot without any membership enrollment. Generally, a company profits when their most of their customers have a subscription-based membership."
   ]
  },
  {
   "cell_type": "code",
   "execution_count": 48,
   "metadata": {},
   "outputs": [
    {
     "data": {
      "text/plain": [
       "0    1/1/2017 0:15\n",
       "1    1/1/2017 0:24\n",
       "2    1/1/2017 0:28\n",
       "3    1/1/2017 0:38\n",
       "4    1/1/2017 0:38\n",
       "Name: start_time, dtype: object"
      ]
     },
     "execution_count": 48,
     "metadata": {},
     "output_type": "execute_result"
    }
   ],
   "source": [
    "trips_clean['start_time'].head()"
   ]
  },
  {
   "cell_type": "code",
   "execution_count": 50,
   "metadata": {},
   "outputs": [
    {
     "name": "stderr",
     "output_type": "stream",
     "text": [
      "C:\\Users\\alao8\\Anaconda3\\lib\\site-packages\\ipykernel_launcher.py:3: SettingWithCopyWarning: \n",
      "A value is trying to be set on a copy of a slice from a DataFrame.\n",
      "Try using .loc[row_indexer,col_indexer] = value instead\n",
      "\n",
      "See the caveats in the documentation: http://pandas.pydata.org/pandas-docs/stable/indexing.html#indexing-view-versus-copy\n",
      "  This is separate from the ipykernel package so we can avoid doing imports until\n",
      "C:\\Users\\alao8\\Anaconda3\\lib\\site-packages\\ipykernel_launcher.py:5: SettingWithCopyWarning: \n",
      "A value is trying to be set on a copy of a slice from a DataFrame.\n",
      "Try using .loc[row_indexer,col_indexer] = value instead\n",
      "\n",
      "See the caveats in the documentation: http://pandas.pydata.org/pandas-docs/stable/indexing.html#indexing-view-versus-copy\n",
      "  \"\"\"\n"
     ]
    },
    {
     "data": {
      "text/html": [
       "<div>\n",
       "<style scoped>\n",
       "    .dataframe tbody tr th:only-of-type {\n",
       "        vertical-align: middle;\n",
       "    }\n",
       "\n",
       "    .dataframe tbody tr th {\n",
       "        vertical-align: top;\n",
       "    }\n",
       "\n",
       "    .dataframe thead th {\n",
       "        text-align: right;\n",
       "    }\n",
       "</style>\n",
       "<table border=\"1\" class=\"dataframe\">\n",
       "  <thead>\n",
       "    <tr style=\"text-align: right;\">\n",
       "      <th></th>\n",
       "      <th>start_time_dt</th>\n",
       "      <th>end_time_dt</th>\n",
       "    </tr>\n",
       "  </thead>\n",
       "  <tbody>\n",
       "    <tr>\n",
       "      <th>0</th>\n",
       "      <td>2017-01-01 00:15:00</td>\n",
       "      <td>2017-01-01 00:23:00</td>\n",
       "    </tr>\n",
       "    <tr>\n",
       "      <th>1</th>\n",
       "      <td>2017-01-01 00:24:00</td>\n",
       "      <td>2017-01-01 00:36:00</td>\n",
       "    </tr>\n",
       "    <tr>\n",
       "      <th>2</th>\n",
       "      <td>2017-01-01 00:28:00</td>\n",
       "      <td>2017-01-01 00:45:00</td>\n",
       "    </tr>\n",
       "    <tr>\n",
       "      <th>3</th>\n",
       "      <td>2017-01-01 00:38:00</td>\n",
       "      <td>2017-01-01 00:43:00</td>\n",
       "    </tr>\n",
       "    <tr>\n",
       "      <th>4</th>\n",
       "      <td>2017-01-01 00:38:00</td>\n",
       "      <td>2017-01-01 00:43:00</td>\n",
       "    </tr>\n",
       "  </tbody>\n",
       "</table>\n",
       "</div>"
      ],
      "text/plain": [
       "        start_time_dt         end_time_dt\n",
       "0 2017-01-01 00:15:00 2017-01-01 00:23:00\n",
       "1 2017-01-01 00:24:00 2017-01-01 00:36:00\n",
       "2 2017-01-01 00:28:00 2017-01-01 00:45:00\n",
       "3 2017-01-01 00:38:00 2017-01-01 00:43:00\n",
       "4 2017-01-01 00:38:00 2017-01-01 00:43:00"
      ]
     },
     "execution_count": 50,
     "metadata": {},
     "output_type": "execute_result"
    }
   ],
   "source": [
    "#Convert to datetime format\n",
    "\n",
    "trips_clean['start_time_dt'] = pd.to_datetime(trips_clean['start_time'])\n",
    "\n",
    "trips_clean['end_time_dt'] = pd.to_datetime(trips_clean['end_time'])\n",
    "\n",
    "trips_clean[['start_time_dt', 'end_time_dt']].head()"
   ]
  },
  {
   "cell_type": "code",
   "execution_count": 53,
   "metadata": {},
   "outputs": [
    {
     "name": "stderr",
     "output_type": "stream",
     "text": [
      "C:\\Users\\alao8\\Anaconda3\\lib\\site-packages\\ipykernel_launcher.py:2: SettingWithCopyWarning: \n",
      "A value is trying to be set on a copy of a slice from a DataFrame.\n",
      "Try using .loc[row_indexer,col_indexer] = value instead\n",
      "\n",
      "See the caveats in the documentation: http://pandas.pydata.org/pandas-docs/stable/indexing.html#indexing-view-versus-copy\n",
      "  \n",
      "C:\\Users\\alao8\\Anaconda3\\lib\\site-packages\\ipykernel_launcher.py:3: SettingWithCopyWarning: \n",
      "A value is trying to be set on a copy of a slice from a DataFrame.\n",
      "Try using .loc[row_indexer,col_indexer] = value instead\n",
      "\n",
      "See the caveats in the documentation: http://pandas.pydata.org/pandas-docs/stable/indexing.html#indexing-view-versus-copy\n",
      "  This is separate from the ipykernel package so we can avoid doing imports until\n",
      "C:\\Users\\alao8\\Anaconda3\\lib\\site-packages\\ipykernel_launcher.py:4: SettingWithCopyWarning: \n",
      "A value is trying to be set on a copy of a slice from a DataFrame.\n",
      "Try using .loc[row_indexer,col_indexer] = value instead\n",
      "\n",
      "See the caveats in the documentation: http://pandas.pydata.org/pandas-docs/stable/indexing.html#indexing-view-versus-copy\n",
      "  after removing the cwd from sys.path.\n",
      "C:\\Users\\alao8\\Anaconda3\\lib\\site-packages\\ipykernel_launcher.py:8: SettingWithCopyWarning: \n",
      "A value is trying to be set on a copy of a slice from a DataFrame.\n",
      "Try using .loc[row_indexer,col_indexer] = value instead\n",
      "\n",
      "See the caveats in the documentation: http://pandas.pydata.org/pandas-docs/stable/indexing.html#indexing-view-versus-copy\n",
      "  \n"
     ]
    }
   ],
   "source": [
    "#Now we can extract year, month, and day once it datetime format \n",
    "trips_clean['year'] = trips_clean.start_time_dt.dt.year\n",
    "trips_clean['month'] = trips_clean.start_time_dt.dt.month\n",
    "trips_clean['day'] = trips_clean.start_time_dt.dt.day\n",
    "\n",
    "\n",
    "# Days of the week where 0 is Monday and 6 is Sunday \n",
    "trips_clean['dayofweek'] = trips_clean.start_time_dt.dt.dayofweek\n"
   ]
  },
  {
   "cell_type": "code",
   "execution_count": 58,
   "metadata": {},
   "outputs": [
    {
     "data": {
      "text/plain": [
       "Text(0.5, 1.0, 'Monthly Trips Taken in 2017')"
      ]
     },
     "execution_count": 58,
     "metadata": {},
     "output_type": "execute_result"
    },
    {
     "data": {
      "image/png": "[encoded data removed]",
      "text/plain": [
       "<Figure size 720x720 with 1 Axes>"
      ]
     },
     "metadata": {},
     "output_type": "display_data"
    }
   ],
   "source": [
    "monthly_trips = trips_clean.groupby(['year', 'month'])['trip_id'].count()\n",
    "monthly_trips.plot(kind='barh')\n",
    "plt.xlabel('Number of Trips')\n",
    "plt.title('Monthly Trips Taken in 2017', fontsize=14)"
   ]
  },
  {
   "cell_type": "markdown",
   "metadata": {},
   "source": [
    "The highest number of trips were during October 2017. This high volumn of trips might be related to the moderate weather (72°), tourism, and possibly school commute. It's expected to have a low volume during the cold winter months of January and February and steadily increase as Spring arrives."
   ]
  },
  {
   "cell_type": "code",
   "execution_count": 65,
   "metadata": {},
   "outputs": [
    {
     "name": "stderr",
     "output_type": "stream",
     "text": [
      "C:\\Users\\alao8\\Anaconda3\\lib\\site-packages\\pandas\\plotting\\_core.py:185: UserWarning: 'colors' is being deprecated. Please use 'color'instead of 'colors'\n",
      "  warnings.warn((\"'colors' is being deprecated. Please use 'color'\"\n"
     ]
    },
    {
     "data": {
      "text/plain": [
       "<matplotlib.axes._subplots.AxesSubplot at 0x2d0dde38358>"
      ]
     },
     "execution_count": 65,
     "metadata": {},
     "output_type": "execute_result"
    },
    {
     "data": {
      "image/png": "[encoded data removed]",
      "text/plain": [
       "<Figure size 576x432 with 1 Axes>"
      ]
     },
     "metadata": {},
     "output_type": "display_data"
    }
   ],
   "source": [
    "#Let's see which day(s) have the lowest and highest volumns\n",
    "day_trips = trips_clean.groupby(['dayofweek'])['trip_id'].count()\n",
    "colors = ['blue', 'green', 'pink', 'yellow', 'purple', 'red', 'grey']\n",
    "day_trips.plot(kind='bar', colors=colors, figsize=(8,6))"
   ]
  },
  {
   "cell_type": "markdown",
   "metadata": {},
   "source": [
    "It's not suprising to see that the highest trip volume is on Friday. "
   ]
  },
  {
   "cell_type": "code",
   "execution_count": null,
   "metadata": {},
   "outputs": [],
   "source": []
  }
 ],
 "metadata": {
  "kernelspec": {
   "display_name": "Python 3",
   "language": "python",
   "name": "python3"
  },
  "language_info": {
   "codemirror_mode": {
    "name": "ipython",
    "version": 3
   },
   "file_extension": ".py",
   "mimetype": "text/x-python",
   "name": "python",
   "nbconvert_exporter": "python",
   "pygments_lexer": "ipython3",
   "version": "3.7.3"
  }
 },
 "nbformat": 4,
 "nbformat_minor": 2
}
